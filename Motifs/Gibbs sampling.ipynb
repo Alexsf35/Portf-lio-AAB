{
 "cells": [
  {
   "cell_type": "markdown",
   "metadata": {},
   "source": [
    "Gibbs sampling"
   ]
  },
  {
   "cell_type": "code",
   "execution_count": 1,
   "metadata": {},
   "outputs": [],
   "source": [
    "import random"
   ]
  },
  {
   "cell_type": "code",
   "execution_count": 3,
   "metadata": {},
   "outputs": [
    {
     "name": "stdout",
     "output_type": "stream",
     "text": [
      "[['ATGGTCGC', 5, 'CGC'], ['TTGTCTGA', 4, 'CTG'], ['CCGTAGTA', 5, 'GTA']]\n"
     ]
    }
   ],
   "source": [
    "#1) Escolher posições iniciais de forma aleatória s = (s1,...,st) e formar os segmentos respectivos. \n",
    "\n",
    "seqs = [\"ATGGTCGC\",\"TTGTCTGA\",\"CCGTAGTA\"]\n",
    "\n",
    "def pos_init(seqs: list,tam_motif: int):\n",
    "    tam_seq = len(seqs[0])\n",
    "    pos=[]\n",
    "    for i in seqs:\n",
    "        ni = random.randint(0, tam_seq - tam_motif)\n",
    "        pos.append([i,ni,i[ni:ni+tam_motif]])\n",
    "    print(pos)\n",
    "\n",
    "pos_init(seqs,3)\n"
   ]
  },
  {
   "cell_type": "code",
   "execution_count": 4,
   "metadata": {},
   "outputs": [
    {
     "name": "stdout",
     "output_type": "stream",
     "text": [
      "TTGTCTGA\n"
     ]
    }
   ],
   "source": [
    "#2) Escolher aleatoriamente uma sequência i\n",
    "\n",
    "choose_seq = random.choice(seqs)\n",
    "print(choose_seq)"
   ]
  },
  {
   "cell_type": "code",
   "execution_count": null,
   "metadata": {},
   "outputs": [],
   "source": []
  }
 ],
 "metadata": {
  "kernelspec": {
   "display_name": "Python 3",
   "language": "python",
   "name": "python3"
  },
  "language_info": {
   "codemirror_mode": {
    "name": "ipython",
    "version": 3
   },
   "file_extension": ".py",
   "mimetype": "text/x-python",
   "name": "python",
   "nbconvert_exporter": "python",
   "pygments_lexer": "ipython3",
   "version": "3.13.2"
  }
 },
 "nbformat": 4,
 "nbformat_minor": 2
}
